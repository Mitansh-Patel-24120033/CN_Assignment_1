{
 "cells": [
  {
   "cell_type": "code",
   "execution_count": 1,
   "id": "8d4fdc7b-0a70-400b-b868-e9c259b7a6fc",
   "metadata": {},
   "outputs": [],
   "source": [
    "import time\n",
    "import matplotlib.pyplot as plt\n",
    "from scapy.all import *\n",
    "from collections import defaultdict\n",
    "import gc\n",
    "import re"
   ]
  },
  {
   "cell_type": "code",
   "execution_count": 2,
   "id": "03b9101a-81af-4bb7-ab80-72119df4e101",
   "metadata": {},
   "outputs": [
    {
     "name": "stdout",
     "output_type": "stream",
     "text": [
      "Loaded 806013 packets in 165.724 seconds\n",
      "Packets Loaded, now sniffing...\n",
      "Sniffed 100000 packets\n",
      "Sniffed 200000 packets\n",
      "Sniffed 300000 packets\n",
      "Sniffed 400000 packets\n",
      "Sniffed 500000 packets\n",
      "Sniffed 600000 packets\n",
      "Sniffed 700000 packets\n",
      "Sniffed 800000 packets\n"
     ]
    },
    {
     "data": {
      "text/plain": [
       "16103332"
      ]
     },
     "execution_count": 2,
     "metadata": {},
     "output_type": "execute_result"
    }
   ],
   "source": [
    "# Load 1.pcap file\n",
    "start_load = time.time()\n",
    "file = PcapReader(\"1.pcap\")\n",
    "#Read all packets\n",
    "packets=file.read_all()\n",
    "end_load = time.time()\n",
    "print(f\"Loaded {len(packets)} packets in {end_load - start_load:.3f} seconds\")\n",
    "print(\"Packets loaded, now sniffing...\")\n",
    "\n",
    "# Metrics\n",
    "tdata = 0\n",
    "packet_sizes = []\n",
    "pairs = set()\n",
    "src_fl = defaultdict(int)\n",
    "dst_fl = defaultdict(int)\n",
    "data_by_pair = defaultdict(int)\n",
    "total_packets = 0\n",
    "\n",
    "email_subject = None\n",
    "recipient_email = None\n",
    "dns_server = None\n",
    "resolved_ip = None\n",
    "\n",
    "# Sniff packets\n",
    "sniff_start=time.time()\n",
    "for pac in packets:\n",
    "    #Only check packets with IP header\n",
    "    if pac.haslayer(\"IP\"):\n",
    "        src_ip = pac[\"IP\"].src\n",
    "        dst_ip = pac[\"IP\"].dst\n",
    "        src_port = None\n",
    "        dst_port = None\n",
    "        \n",
    "        if pac.haslayer(\"TCP\"):\n",
    "            src_port = pac[\"TCP\"].sport\n",
    "            dst_port = pac[\"TCP\"].dport\n",
    "        elif pac.haslayer(\"UDP\"):\n",
    "            src_port = pac[\"UDP\"].sport\n",
    "            dst_port = pac[\"UDP\"].dport\n",
    "        \n",
    "        ip_port_pair = (f\"{src_ip}:{src_port}\", f\"{dst_ip}:{dst_port}\")\n",
    "        p_size = len(pac)\n",
    "        tdata += p_size\n",
    "        packet_sizes.append(p_size)\n",
    "        pairs.add(ip_port_pair)\n",
    "        \n",
    "        # Update source and destination flows\n",
    "        src_fl[src_ip] += 1\n",
    "        dst_fl[dst_ip] += 1\n",
    "        \n",
    "        data_by_pair[ip_port_pair] += p_size\n",
    "        total_packets += 1\n",
    "\n",
    "        #Part 02 Questions\n",
    "        #Q1 & Q2\n",
    "        if pac.haslayer(\"TCP\") and (pac[\"TCP\"].sport == 25 or pac[\"TCP\"].dport == 25):  # SMTP traffic\n",
    "            raw_data = bytes(pac.payload)\n",
    "            pattern = f\"Subject:(.*?)(?:\\n|$)\"\n",
    "            match=re.search(pattern,raw_data.decode(errors=\"ignore\"))\n",
    "            if match:\n",
    "                email_subject=match.group(1).strip()\n",
    "            pattern = f\"RCPT TO:(.*?)(?:\\n|$)\"\n",
    "            match=re.search(pattern,raw_data.decode(errors=\"ignore\"))\n",
    "            if match:\n",
    "                recipient_email=match.group(1).strip()\n",
    "        #Q3 & Q4\n",
    "        if pac.haslayer(\"DNS\") and pac[\"DNS\"].qr == 1:  # DNS Response\n",
    "            for i in range(pac[\"DNS\"].ancount):\n",
    "                if b\"routerswitches.com\" in pac[\"DNS\"].an[i].rrname:\n",
    "                    resolved_ip=pac['DNS'].an[i].rdata\n",
    "            if pac[\"DNS\"].qd and pac[\"DNS\"].qd.qname and pac[\"DNS\"].qd.qname.decode().strip(\".\") == \"routerswitches.com\":\n",
    "                dns_server = pac[IP].src\n",
    "\n",
    "        if total_packets % 100000 == 0:\n",
    "            print(f\"Sniffed {total_packets} packets\")\n",
    "sniff_end=time.time()\n",
    "\n",
    "# Find the pair with the most data transferred\n",
    "most_data_pair = max(data_by_pair.items(), key=lambda x: x[1], default=(None, 0))\n",
    "# Calculate speed metrics\n",
    "duration = sniff_end - sniff_start\n",
    "pps = total_packets / duration  # Packets per second\n",
    "mbps = (tdata * 8) / (duration * 1000000)  # Convert bytes to bits and scale to Mbps\n",
    "\n",
    "del packets\n",
    "file.close()\n",
    "gc.collect()"
   ]
  },
  {
   "cell_type": "code",
   "execution_count": 1,
   "id": "4d102aff-cff0-4c63-bc1c-236452bf7595",
   "metadata": {},
   "outputs": [
    {
     "name": "stdout",
     "output_type": "stream",
     "text": [
      "\n",
      "Sniffing Metrics after loading .pcap into memory...\n"
     ]
    },
    {
     "ename": "NameError",
     "evalue": "name 'tdata' is not defined",
     "output_type": "error",
     "traceback": [
      "\u001b[0;31m---------------------------------------------------------------------------\u001b[0m",
      "\u001b[0;31mNameError\u001b[0m                                 Traceback (most recent call last)",
      "Cell \u001b[0;32mIn[1], line 3\u001b[0m\n\u001b[1;32m      1\u001b[0m \u001b[38;5;66;03m# Metrics Results\u001b[39;00m\n\u001b[1;32m      2\u001b[0m \u001b[38;5;28mprint\u001b[39m(\u001b[38;5;124m\"\u001b[39m\u001b[38;5;130;01m\\n\u001b[39;00m\u001b[38;5;124mSniffing Metrics after loading .pcap into memory...\u001b[39m\u001b[38;5;124m\"\u001b[39m)\n\u001b[0;32m----> 3\u001b[0m \u001b[38;5;28mprint\u001b[39m(\u001b[38;5;124mf\u001b[39m\u001b[38;5;124m\"\u001b[39m\u001b[38;5;130;01m\\n\u001b[39;00m\u001b[38;5;124mTotal Data Transferred: \u001b[39m\u001b[38;5;132;01m{\u001b[39;00m\u001b[43mtdata\u001b[49m\u001b[38;5;132;01m}\u001b[39;00m\u001b[38;5;124m bytes\u001b[39m\u001b[38;5;124m\"\u001b[39m)\n\u001b[1;32m      4\u001b[0m \u001b[38;5;28mprint\u001b[39m(\u001b[38;5;124mf\u001b[39m\u001b[38;5;124m\"\u001b[39m\u001b[38;5;130;01m\\n\u001b[39;00m\u001b[38;5;124mTotal Packets(with IP layer): \u001b[39m\u001b[38;5;132;01m{\u001b[39;00mtotal_packets\u001b[38;5;132;01m}\u001b[39;00m\u001b[38;5;124m\"\u001b[39m)\n\u001b[1;32m      5\u001b[0m \u001b[38;5;28mprint\u001b[39m(\u001b[38;5;124mf\u001b[39m\u001b[38;5;124m\"\u001b[39m\u001b[38;5;130;01m\\n\u001b[39;00m\u001b[38;5;124mMin Packet Size: \u001b[39m\u001b[38;5;132;01m{\u001b[39;00m\u001b[38;5;28mmin\u001b[39m(packet_sizes)\u001b[38;5;250m \u001b[39m\u001b[38;5;28;01mif\u001b[39;00m\u001b[38;5;250m \u001b[39mpacket_sizes\u001b[38;5;250m \u001b[39m\u001b[38;5;28;01melse\u001b[39;00m\u001b[38;5;250m \u001b[39m\u001b[38;5;241m0\u001b[39m\u001b[38;5;132;01m}\u001b[39;00m\u001b[38;5;124m bytes\u001b[39m\u001b[38;5;124m\"\u001b[39m)\n",
      "\u001b[0;31mNameError\u001b[0m: name 'tdata' is not defined"
     ]
    }
   ],
   "source": [
    "# Metrics Results\n",
    "print(\"\\nSniffing Metrics after loading .pcap into memory...\")\n",
    "print(f\"\\nTotal Data Transferred: {tdata} bytes\")\n",
    "print(f\"\\nTotal Packets(with IP layer): {total_packets}\")\n",
    "print(f\"\\nMin Packet Size: {min(packet_sizes) if packet_sizes else 0} bytes\")\n",
    "print(f\"\\nMax Packet Size: {max(packet_sizes) if packet_sizes else 0} bytes\")\n",
    "print(f\"\\nAvg Packet Size: {sum(packet_sizes) / len(packet_sizes) if packet_sizes else 0:.2f} bytes\")\n",
    "print(f\"\\nUnique Source-Destination Pairs: {len(pairs)}\")\n",
    "print(f\"\\nSource IP Flows: {dict(src_fl)}\")\n",
    "print(f\"\\nDestination IP Flows: {dict(dst_fl)}\")\n",
    "print(f\"\\nCapture Duration: {duration:.3f} seconds\")\n",
    "print(f\"\\nPackets Per Second (PPS): {pps:.3f}\")\n",
    "print(f\"\\nMegabits Per Second (Mbps): {mbps:.3f}\")\n",
    "print(f\"\\nSource-Destination Pair with Most Data: {most_data_pair[0]} ({most_data_pair[1]} bytes)\")\n",
    "\n",
    "# Plot packet size distribution\n",
    "plt.hist(packet_sizes, bins=20, color='blue', edgecolor='black')\n",
    "plt.title('Packet Size Distribution')\n",
    "plt.xlabel('Packet Size (bytes)')\n",
    "plt.ylabel('Frequency')\n",
    "plt.show()"
   ]
  },
  {
   "cell_type": "code",
   "execution_count": 7,
   "id": "f09f207e-12f8-4d07-b8c5-40db48e16754",
   "metadata": {},
   "outputs": [
    {
     "name": "stdout",
     "output_type": "stream",
     "text": [
      "\n",
      "Part 02 Answers:\n",
      "Email Subject: Request extension for assignment 1 of CS433\n",
      "Recipient Email: <sameersir@iitgn.ac.in>\n",
      "Resolved IP for routerswitches.com: 93.184.216.34\n",
      "DNS Server used: 8.8.8.8\n"
     ]
    }
   ],
   "source": [
    "print(\"\\nPart 02 Answers:\")\n",
    "print(f\"Email Subject: {email_subject}\")\n",
    "print(f\"Recipient Email: {recipient_email}\")\n",
    "print(f\"Resolved IP for routerswitches.com: {resolved_ip}\")\n",
    "print(f\"DNS Server used: {dns_server}\")"
   ]
  },
  {
   "cell_type": "code",
   "execution_count": 9,
   "id": "d62320e3-445f-4d99-a406-bee464399ee2",
   "metadata": {},
   "outputs": [],
   "source": [
    "exit()"
   ]
  }
 ],
 "metadata": {
  "kernelspec": {
   "display_name": "Python 3 (ipykernel)",
   "language": "python",
   "name": "python3"
  },
  "language_info": {
   "codemirror_mode": {
    "name": "ipython",
    "version": 3
   },
   "file_extension": ".py",
   "mimetype": "text/x-python",
   "name": "python",
   "nbconvert_exporter": "python",
   "pygments_lexer": "ipython3",
   "version": "3.13.1"
  }
 },
 "nbformat": 4,
 "nbformat_minor": 5
}
